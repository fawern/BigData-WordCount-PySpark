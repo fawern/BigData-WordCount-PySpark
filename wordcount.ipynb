{
 "cells": [
  {
   "cell_type": "code",
   "execution_count": 21,
   "metadata": {},
   "outputs": [
    {
     "name": "stdout",
     "output_type": "stream",
     "text": [
      "Requirement already satisfied: psutil in c:\\users\\90530\\appdata\\roaming\\python\\python311\\site-packages (5.9.4)\n"
     ]
    }
   ],
   "source": [
    "!pip install psutil"
   ]
  },
  {
   "cell_type": "code",
   "execution_count": 22,
   "metadata": {},
   "outputs": [
    {
     "name": "stdout",
     "output_type": "stream",
     "text": [
      "Requirement already satisfied: pip in c:\\users\\90530\\appdata\\local\\programs\\python\\python311\\lib\\site-packages (23.3.1)\n"
     ]
    }
   ],
   "source": [
    "!python -m pip install --upgrade pip"
   ]
  },
  {
   "cell_type": "code",
   "execution_count": 23,
   "metadata": {},
   "outputs": [
    {
     "name": "stdout",
     "output_type": "stream",
     "text": [
      "Requirement already satisfied: pyspark in c:\\users\\90530\\appdata\\local\\programs\\python\\python311\\lib\\site-packages (3.5.0)\n",
      "Requirement already satisfied: py4j==0.10.9.7 in c:\\users\\90530\\appdata\\local\\programs\\python\\python311\\lib\\site-packages (from pyspark) (0.10.9.7)\n"
     ]
    }
   ],
   "source": [
    "!pip install pyspark"
   ]
  },
  {
   "cell_type": "code",
   "execution_count": 1,
   "metadata": {},
   "outputs": [
    {
     "name": "stdout",
     "output_type": "stream",
     "text": [
      "Requirement already satisfied: pyspark in c:\\users\\90530\\appdata\\local\\programs\\python\\python311\\lib\\site-packages (3.5.0)\n",
      "Requirement already satisfied: py4j==0.10.9.7 in c:\\users\\90530\\appdata\\local\\programs\\python\\python311\\lib\\site-packages (from pyspark) (0.10.9.7)\n"
     ]
    }
   ],
   "source": [
    "!pip install pyspark"
   ]
  },
  {
   "cell_type": "code",
   "execution_count": 1,
   "metadata": {},
   "outputs": [],
   "source": [
    "import warnings\n",
    "warnings.filterwarnings('ignore')"
   ]
  },
  {
   "cell_type": "code",
   "execution_count": 2,
   "metadata": {},
   "outputs": [],
   "source": [
    "import findspark\n",
    "findspark.init(\"C:\\spark\")"
   ]
  },
  {
   "cell_type": "code",
   "execution_count": 3,
   "metadata": {},
   "outputs": [
    {
     "name": "stdout",
     "output_type": "stream",
     "text": [
      "appName :  PysparkWordCountApp\n",
      "version :  3.4.1\n",
      "sparkUser :  90530\n"
     ]
    }
   ],
   "source": [
    "from pyspark.sql import SparkSession\n",
    "from pyspark.conf import SparkConf\n",
    "\n",
    "spark = SparkSession.builder\\\n",
    "    .master('local')\\\n",
    "        .appName('PysparkWordCountApp')\\\n",
    "            .getOrCreate()\n",
    "\n",
    "sc = spark.sparkContext \n",
    "\n",
    "rdd = sc.textFile('leipzig124MB.txt')\n",
    "\n",
    "print('appName : ', sc.appName)\n",
    "print('version : ', sc.version)\n",
    "print('sparkUser : ', sc.sparkUser())"
   ]
  },
  {
   "cell_type": "code",
   "execution_count": 4,
   "metadata": {},
   "outputs": [
    {
     "data": {
      "text/html": [
       "\n",
       "        <div>\n",
       "            <p><b>SparkContext</b></p>\n",
       "\n",
       "            <p><a href=\"http://172.17.52.118:4040\">Spark UI</a></p>\n",
       "\n",
       "            <dl>\n",
       "              <dt>Version</dt>\n",
       "                <dd><code>v3.4.1</code></dd>\n",
       "              <dt>Master</dt>\n",
       "                <dd><code>local</code></dd>\n",
       "              <dt>AppName</dt>\n",
       "                <dd><code>PysparkWordCountApp</code></dd>\n",
       "            </dl>\n",
       "        </div>\n",
       "        "
      ],
      "text/plain": [
       "<SparkContext master=local appName=PysparkWordCountApp>"
      ]
     },
     "execution_count": 4,
     "metadata": {},
     "output_type": "execute_result"
    }
   ],
   "source": [
    "sc"
   ]
  },
  {
   "cell_type": "code",
   "execution_count": 5,
   "metadata": {},
   "outputs": [
    {
     "name": "stdout",
     "output_type": "stream",
     "text": [
      "Host Name: fawern\n",
      "IP Adres: 172.17.52.118\n"
     ]
    }
   ],
   "source": [
    "import socket\n",
    "\n",
    "host_name = socket.gethostname()\n",
    "print(\"Host Name:\", host_name)\n",
    "\n",
    "# IP adresini almak için\n",
    "ip_address = socket.gethostbyname(host_name)\n",
    "print(\"IP Adres:\", ip_address)"
   ]
  },
  {
   "cell_type": "code",
   "execution_count": 6,
   "metadata": {},
   "outputs": [],
   "source": [
    "contractions = {\n",
    "    r\"'m\": \" am\",\n",
    "    r\"’m\": ' am',\n",
    "    r\"'s\": ' is',\n",
    "    r\"’s\": ' is',\n",
    "    r\"isn't\": \"is not\",\n",
    "    r\"Isn't\": \"Is not\",\n",
    "    r\"'re\": \" are\",\n",
    "    r\"’re\": \" are\",\n",
    "    r\"aren't\": \"are not\",\n",
    "    r\"Aren't\": \"Are not\",\n",
    "    r\"'ve\": \" have\",\n",
    "    r\"’ve\": \" have\",\n",
    "    r\"haven't\": \"have not\",\n",
    "    r\"Haven't\": \"Have not\",\n",
    "    r\"'d\": \" would\",\n",
    "    r\"’d\": \" would\",\n",
    "    r\"wouldn't\": \"would not\",\n",
    "    r\"Wouldn't\": \"Would not\",\n",
    "    r\"don't\": \"do not\",\n",
    "    r\"doesn't\": \"does not\",\n",
    "    r\"didn't\": \"did not\",\n",
    "    r\"Don't\": \"Do not\",\n",
    "    r\"Doesn't\": \"Does not\",\n",
    "    r\"Didn't\": \"Did not\",\n",
    "    r\"can't\": \"cannot\",\n",
    "    r\"Can't\": \"Cannot\",\n",
    "    r\"won't\": \"will not\",\n",
    "    r\"Won't\": \"Will not\",\n",
    "    r\"shan't\": \"shall not\",\n",
    "    r\"Shan't\": \"Shall not\",\n",
    "    r\"'ll\": \" will\",\n",
    "    r\"shouldn't\": \"should not\",\n",
    "    r\"Shouldn't\": \"Should not\",\n",
    "    r\"could've\": \"could have\",\n",
    "    r\"Could've\": \"Could have\",\n",
    "    r\"couldn't\": \"could not\",\n",
    "    r\"Couldn't\": \"Could not\",\n",
    "    r\"might've\": \"might have\",\n",
    "    r\"Might've\": \"Might have\",\n",
    "    r\"mustn't\": \"must not\",\n",
    "    r\"Mustn't\": \"Must not\",\n",
    "}\n",
    "\n",
    "def remove_contractions(text):\n",
    "  for pattern, replacement in contractions.items():\n",
    "    text = re.sub(pattern, replacement, text, flags=re.IGNORECASE)\n",
    "  return text\n",
    "\n",
    "def clean_data(x):\n",
    "  punc='!\"#$%&\\'()*+,./:;<=>?@[\\\\]^_`{|}~-'\n",
    "  lowercased_str = x.lower()\n",
    "  for ch in punc: \n",
    "    lowercased_str = lowercased_str.replace(ch, '')\n",
    "  return lowercased_str\n"
   ]
  },
  {
   "cell_type": "code",
   "execution_count": 7,
   "metadata": {},
   "outputs": [
    {
     "data": {
      "text/plain": [
       "1000000"
      ]
     },
     "execution_count": 7,
     "metadata": {},
     "output_type": "execute_result"
    }
   ],
   "source": [
    "rdd_reCont = rdd.map(remove_contractions)\n",
    "\n",
    "cleaned_rdd = rdd.map(clean_data)\n",
    "\n",
    "cleaned_rdd.count() # Number of lines is 1000000"
   ]
  },
  {
   "cell_type": "code",
   "execution_count": 8,
   "metadata": {},
   "outputs": [
    {
     "data": {
      "text/plain": [
       "['a rebel statement sent to lisbon from jamba said 86 government soldiers and 13 guerrillas were killed in the fighting that ended jan 3 it said the rebel forces sill held mavinga',\n",
       " 'authorities last week issued a vacate order for a club in manhattan and closed another in the bronx',\n",
       " 'at the first pan am bankruptcy hearing for example at least five airlines were represented',\n",
       " 'mr neigum pokerfaced during the difficult task manages a 46second showing',\n",
       " 'this combined with the container division talks suggests the groups bankers might be considering an orderly disposal of all assets',\n",
       " 'she told the post in an interview published sunday that some of the money may have become mingled into improvements on her home that included a swimming pool a 2500 widescreen television and renovations to her basement',\n",
       " 'according to a study by the marshall institute the average nasa employees age in 1963 was 30 now most of its senior and middlemanagers will be eligible to retire in five years',\n",
       " 'preston tisch 62 is president and cochief executive officer of loews corp and is a former postmaster general',\n",
       " 'were dealing with an owner who couldnt give a rip they cut off her mail and she got a post office box starting friday an animalcontrol officer is accompanying finster on his route',\n",
       " 'asked if he might bring the world leaders to texas possibly to san antonio the president remarked thats a distinct possibility']"
      ]
     },
     "execution_count": 8,
     "metadata": {},
     "output_type": "execute_result"
    }
   ],
   "source": [
    "cleaned_rdd.take(10)"
   ]
  },
  {
   "cell_type": "code",
   "execution_count": 9,
   "metadata": {},
   "outputs": [
    {
     "data": {
      "text/plain": [
       "['a',\n",
       " 'rebel',\n",
       " 'statement',\n",
       " 'sent',\n",
       " 'to',\n",
       " 'lisbon',\n",
       " 'from',\n",
       " 'jamba',\n",
       " 'said',\n",
       " '86']"
      ]
     },
     "execution_count": 9,
     "metadata": {},
     "output_type": "execute_result"
    }
   ],
   "source": [
    "words = cleaned_rdd.flatMap(lambda line : line.split(' '))\n",
    "words.take(10)"
   ]
  },
  {
   "cell_type": "code",
   "execution_count": 10,
   "metadata": {},
   "outputs": [
    {
     "data": {
      "text/plain": [
       "[('a', 1),\n",
       " ('rebel', 1),\n",
       " ('statement', 1),\n",
       " ('sent', 1),\n",
       " ('to', 1),\n",
       " ('lisbon', 1),\n",
       " ('from', 1),\n",
       " ('jamba', 1),\n",
       " ('said', 1),\n",
       " ('86', 1)]"
      ]
     },
     "execution_count": 10,
     "metadata": {},
     "output_type": "execute_result"
    }
   ],
   "source": [
    "wordCounts = words.map(lambda word : (word, 1))\n",
    "wordCounts.take(10)"
   ]
  },
  {
   "cell_type": "code",
   "execution_count": 11,
   "metadata": {},
   "outputs": [
    {
     "data": {
      "text/plain": [
       "[('rebel', 1058),\n",
       " ('to', 566032),\n",
       " ('soldiers', 3413),\n",
       " ('and', 448465),\n",
       " ('guerrillas', 1950),\n",
       " ('were', 72552),\n",
       " ('it', 132183),\n",
       " ('last', 36100),\n",
       " ('closed', 6964),\n",
       " ('another', 12331)]"
      ]
     },
     "execution_count": 11,
     "metadata": {},
     "output_type": "execute_result"
    }
   ],
   "source": [
    "wordCountsOrdered = wordCounts.reduceByKey(lambda x, y : x + y)\n",
    "wordCountsOrdered.take(10)"
   ]
  },
  {
   "cell_type": "code",
   "execution_count": 12,
   "metadata": {},
   "outputs": [
    {
     "data": {
      "text/plain": [
       "252803"
      ]
     },
     "execution_count": 12,
     "metadata": {},
     "output_type": "execute_result"
    }
   ],
   "source": [
    "wordCountsOrdered.count() # Count of unique words in txt file is 252803"
   ]
  },
  {
   "cell_type": "code",
   "execution_count": 13,
   "metadata": {},
   "outputs": [
    {
     "name": "stdout",
     "output_type": "stream",
     "text": [
      "Word \t\t\t\t Count\n",
      "-----------------------------------------------\n",
      "-rebel   \t\t|\t 1058\n",
      "-to   \t\t\t|\t 566032\n",
      "-soldiers   \t\t|\t 3413\n",
      "-and   \t\t\t|\t 448465\n",
      "-guerrillas   \t\t|\t 1950\n",
      "-were   \t\t|\t 72552\n",
      "-it   \t\t\t|\t 132183\n",
      "-last   \t\t|\t 36100\n",
      "-closed   \t\t|\t 6964\n",
      "-another   \t\t|\t 12331\n",
      "-at   \t\t\t|\t 116259\n",
      "-pan   \t\t\t|\t 1150\n",
      "-represented   \t\t|\t 988\n",
      "-neigum   \t\t|\t 2\n",
      "-task   \t\t|\t 1393\n",
      "-this   \t\t|\t 58731\n",
      "-combined   \t\t|\t 1283\n",
      "-talks   \t\t|\t 6133\n",
      "-might   \t\t|\t 8630\n",
      "-orderly   \t\t|\t 162\n"
     ]
    }
   ],
   "source": [
    "print('Word \\t\\t\\t\\t Count')\n",
    "print('-----------------------------------------------')\n",
    "\n",
    "counter = 0\n",
    "\n",
    "for word, count in wordCountsOrdered.collect():\n",
    "\n",
    "    if len(word) <= 3:\n",
    "        print(f\"-{word}   \\t\\t\\t|\\t {count}\")\n",
    "    \n",
    "    elif len(word) > 11:\n",
    "        print(f\"-{word}   \\t|\\t {count}\")\n",
    "\n",
    "    else:\n",
    "        print(f\"-{word}   \\t\\t|\\t {count}\")\n",
    "\n",
    "    counter += 1\n",
    "    if counter == 20:\n",
    "        break"
   ]
  },
  {
   "cell_type": "code",
   "execution_count": 14,
   "metadata": {},
   "outputs": [],
   "source": [
    "firstTenWords = wordCountsOrdered.take(10)"
   ]
  },
  {
   "cell_type": "code",
   "execution_count": 19,
   "metadata": {},
   "outputs": [],
   "source": [
    "with open(\"firstTenWord.txt\", 'w') as f:\n",
    "    for word ,count in firstTenWords:\n",
    "        f.write(f'{word}\\t{count}\\n')"
   ]
  },
  {
   "cell_type": "code",
   "execution_count": 20,
   "metadata": {},
   "outputs": [
    {
     "name": "stdout",
     "output_type": "stream",
     "text": [
      "Word \t\t\t\t Count\n",
      "-----------------------------------------------\n",
      "-rebel   \t\t|\t 1058\n",
      "\n",
      "-to   \t\t\t|\t 566032\n",
      "\n",
      "-soldiers   \t\t|\t 3413\n",
      "\n",
      "-and   \t\t\t|\t 448465\n",
      "\n",
      "-guerrillas   \t\t|\t 1950\n",
      "\n",
      "-were   \t\t|\t 72552\n",
      "\n",
      "-it   \t\t\t|\t 132183\n",
      "\n",
      "-last   \t\t|\t 36100\n",
      "\n",
      "-closed   \t\t|\t 6964\n",
      "\n",
      "-another   \t\t|\t 12331\n",
      "\n"
     ]
    }
   ],
   "source": [
    "print('Word \\t\\t\\t\\t Count')\n",
    "print('-----------------------------------------------')\n",
    "\n",
    "with open('firstTenWord.txt' , 'r') as f:\n",
    "    lines = f.readlines()\n",
    "\n",
    "    for line in lines:\n",
    "        word, count = line.split('\\t')\n",
    "        \n",
    "        if len(word) <= 3:\n",
    "            print(f\"-{word}   \\t\\t\\t|\\t {count}\")\n",
    "        \n",
    "        elif len(word) > 11:\n",
    "            print(f\"-{word}   \\t|\\t {count}\")\n",
    "\n",
    "        else:\n",
    "            print(f\"-{word}   \\t\\t|\\t {count}\")"
   ]
  }
 ],
 "metadata": {
  "kernelspec": {
   "display_name": "Python 3",
   "language": "python",
   "name": "python3"
  },
  "language_info": {
   "codemirror_mode": {
    "name": "ipython",
    "version": 3
   },
   "file_extension": ".py",
   "mimetype": "text/x-python",
   "name": "python",
   "nbconvert_exporter": "python",
   "pygments_lexer": "ipython3",
   "version": "3.11.3"
  }
 },
 "nbformat": 4,
 "nbformat_minor": 2
}
